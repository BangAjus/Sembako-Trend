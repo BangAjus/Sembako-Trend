{
 "cells": [
  {
   "cell_type": "code",
   "execution_count": 96,
   "metadata": {},
   "outputs": [],
   "source": [
    "import pandas as pd\n",
    "import numpy as np\n",
    "import os"
   ]
  },
  {
   "cell_type": "markdown",
   "metadata": {},
   "source": [
    "# Data Engineering Project\n",
    "\n",
    "## Purpose\n",
    "1. Changing the table format so it can be processed\n",
    "2. Plot the processed data\n",
    "3. Use the processed data to make prediction\n",
    "4. And time-series trend analysis"
   ]
  },
  {
   "cell_type": "markdown",
   "metadata": {},
   "source": [
    "### 1. Changing the table format so it can be processed\n",
    "### 2. Plot the processed data"
   ]
  },
  {
   "cell_type": "code",
   "execution_count": 168,
   "metadata": {},
   "outputs": [
    {
     "name": "stdout",
     "output_type": "stream",
     "text": [
      "<class 'pandas.core.frame.DataFrame'>\n",
      "Int64Index: 60 entries, 0 to 11\n",
      "Data columns (total 5 columns):\n",
      " #   Column                 Non-Null Count  Dtype  \n",
      "---  ------                 --------------  -----  \n",
      " 0   Bulan                  60 non-null     object \n",
      " 1   Tahun                  60 non-null     float64\n",
      " 2   Premium                60 non-null     float64\n",
      " 3   Medium                 60 non-null     float64\n",
      " 4   Rendah/Luar Kualitas1  60 non-null     float64\n",
      "dtypes: float64(4), object(1)\n",
      "memory usage: 2.8+ KB\n"
     ]
    }
   ],
   "source": [
    "datas = [os.path.join('data/beras', i) for i in os.listdir('data/beras/')]\n",
    "\n",
    "def process_data_beras(file_path):\n",
    "\n",
    "       df = pd.read_csv(file_path).transpose()\n",
    "       df[1] = df[1].fillna(file_path[-8:-4])\n",
    "       df.columns = df.loc['Kualitas Beras'].tolist()\n",
    "\n",
    "       df = df.shift(-1)\\\n",
    "              .reset_index()\\\n",
    "              .rename(columns={file_path[-8:-4]:'Tahun',\n",
    "                               df.columns[0]:'Bulan'})\\\n",
    "              .drop(columns=['index'])\n",
    "       \n",
    "       df.index = df[df.columns[2]]\n",
    "       df.index = [i[1] for i in df.index]\n",
    "\n",
    "       df = df.drop(columns=['Bulan'])\\\n",
    "              .reset_index()\\\n",
    "              .rename(columns={'index':'Bulan'})\n",
    "       \n",
    "       return df.head(df.shape[0] - 1)\n",
    "\n",
    "df = process_data_beras(datas[0])\n",
    "\n",
    "for i in datas[1:]:\n",
    "    \n",
    "    data_temp = process_data_beras(i)\n",
    "    df = pd.concat([df,\n",
    "                    data_temp],\n",
    "                    axis=0,\n",
    "                    ignore_index=True)\n",
    "\n",
    "for i in df.columns[1:]:\n",
    "      df[i] = df[i].astype(float)\n",
    "\n",
    "df = df.interpolate(method='linear')\n",
    "\n",
    "df.info()"
   ]
  },
  {
   "cell_type": "code",
   "execution_count": 169,
   "metadata": {},
   "outputs": [
    {
     "data": {
      "text/plain": [
       "<Axes: xlabel='Tahun'>"
      ]
     },
     "execution_count": 169,
     "metadata": {},
     "output_type": "execute_result"
    },
    {
     "data": {
      "image/png": "[encoded data removed]",
      "text/plain": [
       "<Figure size 432x288 with 1 Axes>"
      ]
     },
     "metadata": {
      "needs_background": "light"
     },
     "output_type": "display_data"
    }
   ],
   "source": [
    "df.plot(kind='line',\n",
    "        x='Tahun')"
   ]
  },
  {
   "cell_type": "code",
   "execution_count": 219,
   "metadata": {},
   "outputs": [
    {
     "name": "stdout",
     "output_type": "stream",
     "text": [
      "<class 'pandas.core.frame.DataFrame'>\n",
      "RangeIndex: 60 entries, 0 to 59\n",
      "Data columns (total 3 columns):\n",
      " #   Column  Non-Null Count  Dtype \n",
      "---  ------  --------------  ----- \n",
      " 0   Bulan   60 non-null     object\n",
      " 1   Tahun   60 non-null     int32 \n",
      " 2   Harga   60 non-null     int32 \n",
      "dtypes: int32(2), object(1)\n",
      "memory usage: 1.1+ KB\n"
     ]
    }
   ],
   "source": [
    "datas = [os.path.join('data/gula', i) for i in os.listdir('data/gula/')]\n",
    "\n",
    "def process_data_gula(file_path):\n",
    "\n",
    "    df = pd.read_csv(file_path)\n",
    "    df.columns = df.loc[1]\n",
    "\n",
    "    df = df.shift(-2)\n",
    "    df.columns = ['Bulan'] + [i for i in df.columns[1:]]\n",
    "    \n",
    "    df = df.head(12)\n",
    "    df = df.melt(id_vars=['Bulan'],\n",
    "                 var_name='Tahun',\n",
    "                 value_name='Harga')\n",
    "\n",
    "    for i in df.columns[1:]:\n",
    "        df[i] = df[i].astype(int)\n",
    "    \n",
    "    return df\n",
    "\n",
    "df = process_data_gula(datas[0])\n",
    "\n",
    "for i in datas[1:]:\n",
    "    \n",
    "    data_temp = process_data_gula(i)\n",
    "    df = pd.concat([df,\n",
    "                    data_temp],\n",
    "                    axis=0,\n",
    "                    ignore_index=True)\n",
    "\n",
    "df = df.interpolate(method='linear')\n",
    "\n",
    "df.info()"
   ]
  },
  {
   "cell_type": "code",
   "execution_count": 220,
   "metadata": {},
   "outputs": [
    {
     "data": {
      "text/plain": [
       "<Axes: xlabel='Tahun'>"
      ]
     },
     "execution_count": 220,
     "metadata": {},
     "output_type": "execute_result"
    },
    {
     "data": {
      "image/png": "[encoded data removed]",
      "text/plain": [
       "<Figure size 432x288 with 1 Axes>"
      ]
     },
     "metadata": {
      "needs_background": "light"
     },
     "output_type": "display_data"
    }
   ],
   "source": [
    "df.plot(kind='line',\n",
    "        x='Tahun')"
   ]
  },
  {
   "cell_type": "markdown",
   "metadata": {},
   "source": [
    "### 3. Use the processed data to make prediction\n",
    "### 4. And time-series trend analysis"
   ]
  },
  {
   "cell_type": "code",
   "execution_count": 233,
   "metadata": {},
   "outputs": [],
   "source": [
    "import statsmodels.api as sm\n",
    "from sklearn.metrics import mean_squared_error\n",
    "from math import sqrt\n",
    "import matplotlib.pyplot as plt"
   ]
  },
  {
   "cell_type": "code",
   "execution_count": 243,
   "metadata": {},
   "outputs": [
    {
     "data": {
      "text/plain": [
       "[<matplotlib.lines.Line2D at 0x223e5d495e0>]"
      ]
     },
     "execution_count": 243,
     "metadata": {},
     "output_type": "execute_result"
    },
    {
     "data": {
      "image/png": "[encoded data removed]",
      "text/plain": [
       "<Figure size 432x288 with 1 Axes>"
      ]
     },
     "metadata": {
      "needs_background": "light"
     },
     "output_type": "display_data"
    }
   ],
   "source": [
    "def predict_data(datas,\n",
    "                 n_month):\n",
    "\n",
    "    model = sm.tsa.statespace.SARIMAX(datas,\n",
    "                                      order=(1, 1, 1),\n",
    "                                      seasonal_order=(1, 0, 1, 12))\n",
    "    model_fit = model.fit()\n",
    "\n",
    "    forecast = model_fit.get_forecast(steps=n_month)\n",
    "    forecast = pd.Series(forecast.predicted_mean)\n",
    "    \n",
    "    return forecast\n",
    "\n",
    "forecast = predict_data(df['Harga'],\n",
    "                        24)\n",
    "plt.plot(df['Harga'], label='Actual Data', color='blue')\n",
    "plt.plot(forecast, label='Forecast Data', color='green')"
   ]
  }
 ],
 "metadata": {
  "kernelspec": {
   "display_name": "Python 3 (ipykernel)",
   "language": "python",
   "name": "python3"
  },
  "language_info": {
   "codemirror_mode": {
    "name": "ipython",
    "version": 3
   },
   "file_extension": ".py",
   "mimetype": "text/x-python",
   "name": "python",
   "nbconvert_exporter": "python",
   "pygments_lexer": "ipython3",
   "version": "3.8.4"
  }
 },
 "nbformat": 4,
 "nbformat_minor": 2
}
